{
 "cells": [
  {
   "cell_type": "markdown",
   "metadata": {},
   "source": [
    "## HCDS-A2-BIAS \n",
    "### Exploratory Data Analysis of Wikipedia Pages\n",
    "### Rahul Birmiwal \n",
    "### HCDE 512, University of Washington\n",
    "\n",
    "### Introduction\n",
    "\n",
    "In this report, potential (or lackthereof) biases in Wikipedia pages are explored. Data is collected from various sources: data of Wikipages of political leaders, for all countries globally; population data for all countries; moreoever a \"scoring\" mechanism from the ORES machine learning service which classifies articles on \"article quality\" (https://www.mediawiki.org/wiki/ORES). Probing for potential bias(es) is then done using quantitative/statistcal approaches, as well as some cursory observations about the resultant countries and the unique characteristics about their geographic/history (assumed to be general knowledge). Again with the understanding/assumption here that the \"bias-proxy\" used  revolves around articles about political leaders. No other datasets, other than that required by this assignment, are utilized in the probing for bias.  \n",
    "\n",
    "The instructions and walkthrough guide for this assignment can be found https://wiki.communitydata.cc/Human_Centered_Data_Science_(Fall_2018)/Assignments#A2:_Bias_in_data\n",
    "\n",
    "### Sections\n",
    "\n",
    "The sections in this report are as follows: \n",
    "1. Data Gathering \n",
    "2. Data Merging \n",
    "3. Results (as specified by assignment instructions)\n",
    "4. Analysis I: Statistical Approach To Bias Measurement\n",
    "5. Analysis II: General Observations With Respect to Geography/History\n",
    "\n",
    "\n",
    "- Section Analysis I seeks to answer the question: \"is there bias in the dataset?\"\n",
    "- Section Analysis II seeks to answer the question: \"are there certain countries whose srticle content is biased?\"\n"
   ]
  },
  {
   "cell_type": "markdown",
   "metadata": {},
   "source": [
    "### Dependencies \n",
    "\n",
    "This report uses Python 3.X. Sections 1-4 require dependencies below. Note that the standard Python ML library`scikit-learn` is required and may have to be installed. "
   ]
  },
  {
   "cell_type": "code",
   "execution_count": 131,
   "metadata": {},
   "outputs": [],
   "source": [
    "import numpy as np \n",
    "import pandas as pd \n",
    "import requests \n",
    "import json \n",
    "import csv \n",
    "from matplotlib import pyplot as plt \n",
    "from pandas.plotting import table\n",
    "from IPython.display import Image, display\n",
    "from IPython.core.display import HTML\n",
    "from sklearn.cluster import KMeans"
   ]
  },
  {
   "cell_type": "markdown",
   "metadata": {},
   "source": [
    "# I. Data Gathering \n",
    "\n",
    "Below are functions used to gather data. They are: \n",
    "1. `get_master()`: Used if the master (merged) data has already been generated. Pointless function otherwise \n",
    "2. `get_wikipages_df()`: This function takes 'page_data.csv' (more on that below), and returns a dataframe of <country, revision_id, article name> tuples, where: \n",
    "\n",
    "    - *revision_id* is like the primary key of that given article \n",
    "    - *country* is where article is from. \n",
    "    - *article name*: Name of article (aka which politician to which it pertains)\n",
    "\n",
    "    This data comes from https://figshare.com/articles/Untitled_Item/5513449, as designated by assignment instructions\n",
    "\n",
    "3. `get_population_df()`: Returns a dataframe of <country, population> pairs. Data comes from https://www.dropbox.com/s/5u7sy1xt7g0oi2c/WPDS_2018_data.csv?dl=0 as designated by assignment instructions"
   ]
  },
  {
   "cell_type": "code",
   "execution_count": 2,
   "metadata": {},
   "outputs": [],
   "source": [
    "def get_master(): \n",
    "    try: \n",
    "        master_data = pd.read_csv('master_data.csv')\n",
    "        print(master_data.head())\n",
    "        return master_data \n",
    "    except(FileNotFoundError): \n",
    "        print(\"No file found, returning None\")\n",
    "        return None\n",
    "    \n",
    "\n",
    "def get_wikipages_df(): \n",
    "    pages_df = pd.read_csv('page_data.csv')\n",
    "    pages_df['country'] = pages_df['country'].str.upper()\n",
    "    print(pages_df.head())\n",
    "    return pages_df \n",
    "\n",
    "def get_population_df(): \n",
    "    pop_df = pd.read_csv('WPDS_2018_data.csv')\n",
    "    pop_df['Geography'] = pop_df['Geography'].str.upper()\n",
    "    pop_df = pop_df.rename(index=str, columns={'Population mid-2018 (millions)':\"population\"})\n",
    "    print(pop_df.head())\n",
    "    return pop_df"
   ]
  },
  {
   "cell_type": "markdown",
   "metadata": {},
   "source": [
    "Call the functions and get the data. Note that get_master() will return None if the data hasn't been gathered. Here it is called because said data has already been generated; a walkthrough on how to do so is in Data Gathering, etc. sections. "
   ]
  },
  {
   "cell_type": "code",
   "execution_count": 200,
   "metadata": {},
   "outputs": [
    {
     "name": "stdout",
     "output_type": "stream",
     "text": [
      "<bound method NDFrame.head of        Unnamed: 0                       page     country     rev_id  \\\n",
      "0               0             Bir I of Kanem        CHAD  355319463   \n",
      "1               1       Abdullah II of Kanem        CHAD  498683267   \n",
      "2               2        Salmama II of Kanem        CHAD  565745353   \n",
      "3               3            Kuri I of Kanem        CHAD  565745365   \n",
      "4               4        Mohammed I of Kanem        CHAD  565745375   \n",
      "5               5           Kuri II of Kanem        CHAD  669719757   \n",
      "6               6            Bir II of Kanem        CHAD  670893206   \n",
      "7               7            Mahamat Hissene        CHAD  693055898   \n",
      "8               8                   Othman I        CHAD  705432607   \n",
      "9               9            Alphonse Kotiga        CHAD  707593108   \n",
      "10             10          Oueddei Kichidemi        CHAD  708346649   \n",
      "11             11                   Dunama I        CHAD  710675092   \n",
      "12             12   Ahmad (Kanem-Bornu king)        CHAD  711388267   \n",
      "13             13          Djibrine Kerallah        CHAD  712971263   \n",
      "14             14           Maurice Ngangtar        CHAD  712971315   \n",
      "15             15             Idriss Miskine        CHAD  712971738   \n",
      "16             16    Laoukein Kourayo Médard        CHAD  716886170   \n",
      "17             17                Nadji Madou        CHAD  716886788   \n",
      "18             18       Noël Milarew Odingar        CHAD  716891799   \n",
      "19             19          Yaya Dillo Djérou        CHAD  717733209   \n",
      "20             20          Acheikh Ibn-Oumar        CHAD  719821590   \n",
      "21             21          Quatre Sou Quatre        CHAD  720066754   \n",
      "22             22                   Ali Gazi        CHAD  722563340   \n",
      "23             23      Mahamat Djarma Khatir        CHAD  725132042   \n",
      "24             24          Dunama IX Lefiami        CHAD  731749611   \n",
      "25             25             Dawud of Kanem        CHAD  736550266   \n",
      "26             26          Ahmed Koulamallah        CHAD  738855197   \n",
      "27             27               Abbo Nassour        CHAD  741369486   \n",
      "28             28     Abdel Kader Baba-Laddé        CHAD  742213176   \n",
      "29             29                     Hummay        CHAD  747271475   \n",
      "...           ...                        ...         ...        ...   \n",
      "44943       44943                 Rita Sinon  SEYCHELLES  800323154   \n",
      "44944       44944           Sylvette Frichot  SEYCHELLES  800323798   \n",
      "44945       44945               May De Silva  SEYCHELLES  800969960   \n",
      "44946       44946            Vincent Meriton  SEYCHELLES  802051093   \n",
      "44947       44947        Marie-Louise Potter  SEYCHELLES  804209620   \n",
      "44948       44948              Gladys Lundwe      ZAMBIA  757566606   \n",
      "44949       44949            Mwamba Luchembe      ZAMBIA  764848643   \n",
      "44950       44950             Thandiwe Banda      ZAMBIA  768166426   \n",
      "44951       44951       Sylvester Chisembele      ZAMBIA  776082926   \n",
      "44952       44952            Victoria Kalima      ZAMBIA  776530837   \n",
      "44953       44953        Margaret Mwanakatwe      ZAMBIA  779747587   \n",
      "44954       44954                 Nkandu Luo      ZAMBIA  779747961   \n",
      "44955       44955              Susan Nakazwe      ZAMBIA  779748181   \n",
      "44956       44956         Catherine Namugala      ZAMBIA  779748285   \n",
      "44957       44957              Edith Nawakwi      ZAMBIA  779748522   \n",
      "44958       44958       Joyce Nonde-Simukoko      ZAMBIA  779748628   \n",
      "44959       44959            Gladys Nyirongo      ZAMBIA  779748837   \n",
      "44960       44960                 Vera Tembo      ZAMBIA  779748931   \n",
      "44961       44961  Ompie Nkumbula-Lieventhal      ZAMBIA  790011468   \n",
      "44962       44962                Besnat Jere      ZAMBIA  791225634   \n",
      "44963       44963               Esther Lungu      ZAMBIA  792296625   \n",
      "44964       44964                Inonge Wina      ZAMBIA  794006130   \n",
      "44965       44965          Maureen Mwanawasa      ZAMBIA  795820299   \n",
      "44966       44966       First Lady of Zambia      ZAMBIA  796467991   \n",
      "44967       44967                Jean Kapata      ZAMBIA  797469872   \n",
      "44968       44968             Peter Sinkamba      ZAMBIA  799512628   \n",
      "44969       44969           Gwendoline Konie      ZAMBIA  803304465   \n",
      "44970       44970             Kenneth Kaunda      ZAMBIA  805875783   \n",
      "44971       44971  Inonge Mbikusita-Lewanika      ZAMBIA  805993958   \n",
      "44972       44972       Yobert K. Shamapande      ZAMBIA  806345311   \n",
      "\n",
      "      prediction   Geography population  \n",
      "0           Stub        CHAD       15.4  \n",
      "1           Stub        CHAD       15.4  \n",
      "2           Stub        CHAD       15.4  \n",
      "3           Stub        CHAD       15.4  \n",
      "4           Stub        CHAD       15.4  \n",
      "5           Stub        CHAD       15.4  \n",
      "6           Stub        CHAD       15.4  \n",
      "7           Stub        CHAD       15.4  \n",
      "8           Stub        CHAD       15.4  \n",
      "9           Stub        CHAD       15.4  \n",
      "10         Start        CHAD       15.4  \n",
      "11          Stub        CHAD       15.4  \n",
      "12          Stub        CHAD       15.4  \n",
      "13          Stub        CHAD       15.4  \n",
      "14          Stub        CHAD       15.4  \n",
      "15          Stub        CHAD       15.4  \n",
      "16          Stub        CHAD       15.4  \n",
      "17          Stub        CHAD       15.4  \n",
      "18         Start        CHAD       15.4  \n",
      "19          Stub        CHAD       15.4  \n",
      "20         Start        CHAD       15.4  \n",
      "21          Stub        CHAD       15.4  \n",
      "22          Stub        CHAD       15.4  \n",
      "23          Stub        CHAD       15.4  \n",
      "24          Stub        CHAD       15.4  \n",
      "25          Stub        CHAD       15.4  \n",
      "26         Start        CHAD       15.4  \n",
      "27             B        CHAD       15.4  \n",
      "28          Stub        CHAD       15.4  \n",
      "29          Stub        CHAD       15.4  \n",
      "...          ...         ...        ...  \n",
      "44943       Stub  SEYCHELLES        0.1  \n",
      "44944       Stub  SEYCHELLES        0.1  \n",
      "44945      Start  SEYCHELLES        0.1  \n",
      "44946       Stub  SEYCHELLES        0.1  \n",
      "44947       Stub  SEYCHELLES        0.1  \n",
      "44948       Stub      ZAMBIA       17.7  \n",
      "44949       Stub      ZAMBIA       17.7  \n",
      "44950      Start      ZAMBIA       17.7  \n",
      "44951          C      ZAMBIA       17.7  \n",
      "44952      Start      ZAMBIA       17.7  \n",
      "44953      Start      ZAMBIA       17.7  \n",
      "44954      Start      ZAMBIA       17.7  \n",
      "44955      Start      ZAMBIA       17.7  \n",
      "44956      Start      ZAMBIA       17.7  \n",
      "44957      Start      ZAMBIA       17.7  \n",
      "44958      Start      ZAMBIA       17.7  \n",
      "44959          C      ZAMBIA       17.7  \n",
      "44960          C      ZAMBIA       17.7  \n",
      "44961       Stub      ZAMBIA       17.7  \n",
      "44962       Stub      ZAMBIA       17.7  \n",
      "44963          C      ZAMBIA       17.7  \n",
      "44964      Start      ZAMBIA       17.7  \n",
      "44965      Start      ZAMBIA       17.7  \n",
      "44966      Start      ZAMBIA       17.7  \n",
      "44967      Start      ZAMBIA       17.7  \n",
      "44968      Start      ZAMBIA       17.7  \n",
      "44969      Start      ZAMBIA       17.7  \n",
      "44970          C      ZAMBIA       17.7  \n",
      "44971      Start      ZAMBIA       17.7  \n",
      "44972          C      ZAMBIA       17.7  \n",
      "\n",
      "[44973 rows x 7 columns]>\n"
     ]
    }
   ],
   "source": [
    "# get master data. This function WILL RETURN NONE if initial data gathering \n",
    "# steps have not been previously done\n",
    "master_data = get_master()"
   ]
  },
  {
   "cell_type": "code",
   "execution_count": 8,
   "metadata": {},
   "outputs": [
    {
     "name": "stdout",
     "output_type": "stream",
     "text": [
      "  Geography population\n",
      "0    AFRICA      1,284\n",
      "1   ALGERIA       42.7\n",
      "2     EGYPT         97\n",
      "3     LIBYA        6.5\n",
      "4   MOROCCO       35.2\n"
     ]
    }
   ],
   "source": [
    "# get population data \n",
    "pop_df = get_population_df()"
   ]
  },
  {
   "cell_type": "code",
   "execution_count": 9,
   "metadata": {},
   "outputs": [
    {
     "name": "stdout",
     "output_type": "stream",
     "text": [
      "                                 page   country     rev_id\n",
      "0  Template:ZambiaProvincialMinisters    ZAMBIA  235107991\n",
      "1                      Bir I of Kanem      CHAD  355319463\n",
      "2   Template:Zimbabwe-politician-stub  ZIMBABWE  391862046\n",
      "3     Template:Uganda-politician-stub    UGANDA  391862070\n",
      "4    Template:Namibia-politician-stub   NAMIBIA  391862409\n"
     ]
    }
   ],
   "source": [
    "# get pages data \n",
    "pages_df = get_wikipages_df()"
   ]
  },
  {
   "cell_type": "markdown",
   "metadata": {},
   "source": [
    "Since many queries/accesses of data from these various sources will be used extensively, it can be easier to work with dictionaries rather than data frames. Here we create a dictionary of the population data and appropriately parse the string representation of the (quantitative) population number to float. "
   ]
  },
  {
   "cell_type": "code",
   "execution_count": 10,
   "metadata": {},
   "outputs": [],
   "source": [
    "pop_dict = pop_df.set_index('Geography')['population'].to_dict()\n",
    "pop_dict = dict(zip(pop_dict.keys(), [float(value.replace(',','')) for value in pop_dict.values()]))"
   ]
  },
  {
   "cell_type": "markdown",
   "metadata": {},
   "source": [
    "### Retrieving Wikipage Data From ORES API \n",
    "\n",
    "Other data needed to be gathered is the ORES data. Python code below is taken and/or adapted from https://github.com/Ironholds/data-512-a2. Two functions are used below: \n",
    "\n",
    "- `get_ores_data()`: Takes a *subsetted* list of revision_ids (from `get_wikipages_df` data source) and returns JSON file obtained by call to `requests()`. Note that the length of the revision_ids list, should not be too big. Here we take size of 100, hence calling it a subsetted list. \n",
    "    \n",
    "- `get_revisionID_predictions()`: The function takes a *full* list of the revision ids, calls `get_ores_data` in chunks, and aggregates the resultant JSON outputs into a new dictionary, which is the complete set of <revision_id, prediction> pairs, where *prediction* is the eponyomously labeled field in the JSON output from `get_ores_data`. Please note that due to the JSON structure, we have to dig a little deep in each JSON subtree to get the pertinent data for such pairs. "
   ]
  },
  {
   "cell_type": "markdown",
   "metadata": {},
   "source": [
    "### JSON Structure of the ORES Data \n",
    "\n",
    "For reference to the reader: \n",
    "Pulled from https://github.com/Ironholds/data-512-a2.\n",
    "\n",
    "`\n",
    "{\n",
    "    \"enwiki\": {\n",
    "        \"models\": {\n",
    "            \"wp10\": {\n",
    "                \"version\": \"0.5.0\"\n",
    "            }\n",
    "        },\n",
    "        \"scores\": {\n",
    "            \"757539710\": {\n",
    "                \"wp10\": {\n",
    "                    \"score\": {\n",
    "                        \"prediction\": \"Start\",\n",
    "                        \"probability\": {\n",
    "                            \"B\": 0.0950995993086368,\n",
    "                            \"C\": 0.1709859524092081,\n",
    "                            \"FA\": 0.002534267983331672,\n",
    "                            \"GA\": 0.005731369423122624,\n",
    "                            \"Start\": 0.7091352495053856,\n",
    "                            \"Stub\": 0.01651356137031511\n",
    "                        }\n",
    "                    }\n",
    "                }\n",
    "            },\n",
    " `"
   ]
  },
  {
   "cell_type": "code",
   "execution_count": 37,
   "metadata": {},
   "outputs": [],
   "source": [
    "\n",
    "headers = {'User-Agent' : 'https://github.com/rrbirmiw/data-512-a2', 'From' : 'rrbirmiw@uw.edu'}\n",
    "\n",
    "def get_ores_data(revision_ids, headers):\n",
    "    \n",
    "    # Define the endpoint\n",
    "    endpoint = 'https://ores.wikimedia.org/v3/scores/{project}/?models={model}&revids={revids}'\n",
    "    \n",
    "    # Specify the parameters - smushing all the revision IDs together separated by | marks.\n",
    "    # Yes, 'smush' is a technical term, trust me I'm a scientist.\n",
    "    # What do you mean \"but people trusting scientists regularly goes horribly wrong\" who taught you tha- oh.  \n",
    "    params = {'project' : 'enwiki',\n",
    "              'model'   : 'wp10',\n",
    "              'revids'  : '|'.join(str(x) for x in revision_ids)\n",
    "              }\n",
    "    api_call = requests.get(endpoint.format(**params))\n",
    "    response = api_call.json()\n",
    "    return(response)\n",
    "\n"
   ]
  },
  {
   "cell_type": "code",
   "execution_count": 38,
   "metadata": {},
   "outputs": [],
   "source": [
    "def get_revisionID_predictions(rev_ids, chunk_size=100): \n",
    "    \"\"\"\n",
    "    Returns dictionary of <rev_id, prediction> key-value pairs\n",
    "    \n",
    "    Args: \n",
    "    - rev_ids (list of ints): Full List of revision id's, each datum is int \n",
    "    - chunk_size (int): Default 100; size of each chunk to be run through \n",
    "                        get_ores_data() API call\n",
    "    Returns: \n",
    "    - predictions_dict (dictionary)\n",
    "    \"\"\"\n",
    "    \n",
    "    # print counter for debugging purposes \n",
    "    counter = 0\n",
    "    chunk_num = 0\n",
    "    \n",
    "    #break data into chunks of chunk_Size so don't overload ORES requests\n",
    "    splits = len(rev_ids) // chunk_size \n",
    "    chunks = np.array_split(rev_ids, splits)\n",
    " \n",
    "    predictions_dict = {} # dictionary to store <rev_id, pred> pairs \n",
    "    \n",
    "    # loop through chunks, inserting resultant data into predictions_dict\n",
    "    for c in chunks: \n",
    "        counter += len(c)\n",
    "        chunk_num += 1\n",
    "        if counter % 1000 == 0: print(\"Completed {}\".format(counter))\n",
    "        try:\n",
    "            ores_json =  get_ores_data(c, headers)\n",
    "        except ValueError as e:\n",
    "            print(\"Error occured on chunk{}......{}\".format(chunk_num, e))\n",
    "            continue # admitting that continue here will skip remained of the chunk. \n",
    "                     # However...a ValueError (JSONDecodeError) should not occur\n",
    "                     # this is just to be safe \n",
    "            \n",
    "        # Parse the JSON tree structure\n",
    "        # come articles may have missing data, so ensure that each \n",
    "        # tree \"node\" / key is present along the way \n",
    "        if 'enwiki' in ores_json: \n",
    "            ores_data = ores_json['enwiki']\n",
    "            if 'scores' in ores_data: \n",
    "                ores_dict = ores_data['scores']\n",
    "                for rid in ores_dict: \n",
    "                    z = ores_dict[rid]['wp10']\n",
    "                    if 'score' in z: \n",
    "                        predictions_dict[rid] = z['score']['prediction']  \n",
    "                    \n",
    "    return predictions_dict"
   ]
  },
  {
   "cell_type": "markdown",
   "metadata": {},
   "source": [
    "Now get the full ORES data. May take several minutes. "
   ]
  },
  {
   "cell_type": "code",
   "execution_count": null,
   "metadata": {},
   "outputs": [],
   "source": [
    "# convert revision ids to integers datatype \n",
    "revision_ids = list(map(int, pages_df['rev_id'].tolist()))\n",
    "\n",
    "# get the ORES data for all ids \n",
    "pred_data = get_revisionID_predictions(revision_ids)"
   ]
  },
  {
   "cell_type": "markdown",
   "metadata": {},
   "source": [
    "Convert the prediction data dictionary to pandas dataframe. Rename the columns appropriately and ensure the revision_id column is again of type int. Then save this to csv file so don't have to come back again"
   ]
  },
  {
   "cell_type": "code",
   "execution_count": 101,
   "metadata": {},
   "outputs": [],
   "source": [
    "pred_data_df = pd.DataFrame.from_dict(pred_data, orient='index').reset_index()\n",
    "pred_data_df = pred_data_df.rename(index=str, columns={\"index\":'rev_id', 0:'prediction'})\n",
    "pred_data_df['rev_id'] = list(map(int, pred_data_df['rev_id']))\n",
    "pred_data_df.to_csv(\"predictions_data.csv\")\n"
   ]
  },
  {
   "cell_type": "markdown",
   "metadata": {},
   "source": [
    "# 2. Data Merging \n",
    "\n",
    "Now begin merging the various dataframes into a master_data Pandas dataframe. As per assignment instructions, inner join is performed on all merges, disregarding revision_ids lacking a \"full\" set of information. (and vice versa, disregarding those ORES data not in this report's set of revision_ids, as created in the aformentioned Figshare link above)"
   ]
  },
  {
   "cell_type": "code",
   "execution_count": 103,
   "metadata": {},
   "outputs": [],
   "source": [
    "# merge Wikipages dataframe with the prediction data\n",
    "master_data = pages_df.merge(pred_data_df, on='rev_id',how='inner')"
   ]
  },
  {
   "cell_type": "code",
   "execution_count": 105,
   "metadata": {},
   "outputs": [],
   "source": [
    "# merge master with population data\n",
    "master_data = master_data.merge(pop_df, left_on='country', right_on='Geography', how='inner')"
   ]
  },
  {
   "cell_type": "code",
   "execution_count": 123,
   "metadata": {},
   "outputs": [],
   "source": [
    "# rename the longwinded population column to something easier. Fix other column names as well. \n",
    "master_data = master_data.rename(index=str, columns={'Population mid-2018 (millions)':\"population\"})"
   ]
  },
  {
   "cell_type": "code",
   "execution_count": 209,
   "metadata": {},
   "outputs": [],
   "source": [
    "# save to CSV for easier reuse\n",
    "master_data = master_data.rename(index=str, columns={'Geography':\"Country\", 'page':'article-name'})\n",
    "master_data.to_csv('master_data.csv')"
   ]
  },
  {
   "cell_type": "code",
   "execution_count": 210,
   "metadata": {},
   "outputs": [
    {
     "data": {
      "text/html": [
       "<div>\n",
       "<style scoped>\n",
       "    .dataframe tbody tr th:only-of-type {\n",
       "        vertical-align: middle;\n",
       "    }\n",
       "\n",
       "    .dataframe tbody tr th {\n",
       "        vertical-align: top;\n",
       "    }\n",
       "\n",
       "    .dataframe thead th {\n",
       "        text-align: right;\n",
       "    }\n",
       "</style>\n",
       "<table border=\"1\" class=\"dataframe\">\n",
       "  <thead>\n",
       "    <tr style=\"text-align: right;\">\n",
       "      <th></th>\n",
       "      <th>Unnamed: 0</th>\n",
       "      <th>article-name</th>\n",
       "      <th>country</th>\n",
       "      <th>rev_id</th>\n",
       "      <th>prediction</th>\n",
       "      <th>Country</th>\n",
       "      <th>population</th>\n",
       "    </tr>\n",
       "  </thead>\n",
       "  <tbody>\n",
       "    <tr>\n",
       "      <th>0</th>\n",
       "      <td>0</td>\n",
       "      <td>Bir I of Kanem</td>\n",
       "      <td>CHAD</td>\n",
       "      <td>355319463</td>\n",
       "      <td>Stub</td>\n",
       "      <td>CHAD</td>\n",
       "      <td>15.4</td>\n",
       "    </tr>\n",
       "    <tr>\n",
       "      <th>1</th>\n",
       "      <td>1</td>\n",
       "      <td>Abdullah II of Kanem</td>\n",
       "      <td>CHAD</td>\n",
       "      <td>498683267</td>\n",
       "      <td>Stub</td>\n",
       "      <td>CHAD</td>\n",
       "      <td>15.4</td>\n",
       "    </tr>\n",
       "    <tr>\n",
       "      <th>2</th>\n",
       "      <td>2</td>\n",
       "      <td>Salmama II of Kanem</td>\n",
       "      <td>CHAD</td>\n",
       "      <td>565745353</td>\n",
       "      <td>Stub</td>\n",
       "      <td>CHAD</td>\n",
       "      <td>15.4</td>\n",
       "    </tr>\n",
       "    <tr>\n",
       "      <th>3</th>\n",
       "      <td>3</td>\n",
       "      <td>Kuri I of Kanem</td>\n",
       "      <td>CHAD</td>\n",
       "      <td>565745365</td>\n",
       "      <td>Stub</td>\n",
       "      <td>CHAD</td>\n",
       "      <td>15.4</td>\n",
       "    </tr>\n",
       "    <tr>\n",
       "      <th>4</th>\n",
       "      <td>4</td>\n",
       "      <td>Mohammed I of Kanem</td>\n",
       "      <td>CHAD</td>\n",
       "      <td>565745375</td>\n",
       "      <td>Stub</td>\n",
       "      <td>CHAD</td>\n",
       "      <td>15.4</td>\n",
       "    </tr>\n",
       "  </tbody>\n",
       "</table>\n",
       "</div>"
      ],
      "text/plain": [
       "   Unnamed: 0          article-name country     rev_id prediction Country  \\\n",
       "0           0        Bir I of Kanem    CHAD  355319463       Stub    CHAD   \n",
       "1           1  Abdullah II of Kanem    CHAD  498683267       Stub    CHAD   \n",
       "2           2   Salmama II of Kanem    CHAD  565745353       Stub    CHAD   \n",
       "3           3       Kuri I of Kanem    CHAD  565745365       Stub    CHAD   \n",
       "4           4   Mohammed I of Kanem    CHAD  565745375       Stub    CHAD   \n",
       "\n",
       "  population  \n",
       "0       15.4  \n",
       "1       15.4  \n",
       "2       15.4  \n",
       "3       15.4  \n",
       "4       15.4  "
      ]
     },
     "execution_count": 210,
     "metadata": {},
     "output_type": "execute_result"
    }
   ],
   "source": [
    "master_data.head()"
   ]
  },
  {
   "cell_type": "markdown",
   "metadata": {},
   "source": [
    "# 3. Results and Tables \n",
    "\n",
    "Assignment instructions state the following tables must be produced: \n",
    "\n",
    "\"\n",
    "The tables should be pretty straightforward. Produce four tables that show:\n",
    "\n",
    "- 10 highest-ranked countries in terms of number of politician articles as a proportion of country population\n",
    "- 10 lowest-ranked countries in terms of number of politician articles as a proportion of country population\n",
    "- 10 highest-ranked countries in terms of number of GA and FA-quality articles as a proportion of all articles about politicians from that country\n",
    "- 10 lowest-ranked countries in terms of number of GA and FA-quality articles as a proportion of all articles about politicians from that country\n",
    "\" (https://wiki.communitydata.cc/Human_Centered_Data_Science_(Fall_2018)/Assignments#A2:_Bias_in_data)\n",
    "\n",
    "In order to do so, two fields must be created: \n",
    "1. **Articles-Per-Population Percentage**: defined to be number of articles about politicians for that country divided by country population (in units of millions) times 100\n",
    "2. **Good-Article Percentage**: define to be number of \"good articles\" divided by number of total articles for each country, times 100. As defined by assignment instructions, a \"good article\" is one that receives a \"FA\" or \"GA\" prediction score in the ORES dataset. \n",
    "\n",
    "A SQL type query that would generate the the number of \"good-articles\" for a country is shown below. That query is then translated into pandas dataframe operations. "
   ]
  },
  {
   "cell_type": "markdown",
   "metadata": {},
   "source": [
    "```\n",
    "SELECT country, count(*) as num_articles\n",
    "FROM master_data \n",
    "WHERE prediction in ('FA', 'GA')\n",
    "GROUP BY country \n",
    "```"
   ]
  },
  {
   "cell_type": "markdown",
   "metadata": {},
   "source": [
    "Create two dataframes, one for the good articles which will contain <country, good-article-count> tuples, where good-article-count is defined above. Likewise create all_articles dataframe, which will contain <country, total articles for that country politicians> tuples. "
   ]
  },
  {
   "cell_type": "code",
   "execution_count": 4,
   "metadata": {},
   "outputs": [],
   "source": [
    "good_articles = pd.DataFrame(master_data[master_data['prediction'].isin(['FA','GA'])]).groupby('country').size()\n",
    "good_articles = good_articles.reset_index().rename(index=str, columns={0:'good-article-count'})\n",
    "\n",
    "all_articles = master_data.groupby('country').size()\n",
    "all_articles = all_articles.reset_index().rename(index=str, columns={0:'total-articles'})"
   ]
  },
  {
   "cell_type": "markdown",
   "metadata": {},
   "source": [
    "View them..."
   ]
  },
  {
   "cell_type": "code",
   "execution_count": 5,
   "metadata": {},
   "outputs": [
    {
     "data": {
      "text/html": [
       "<div>\n",
       "<style scoped>\n",
       "    .dataframe tbody tr th:only-of-type {\n",
       "        vertical-align: middle;\n",
       "    }\n",
       "\n",
       "    .dataframe tbody tr th {\n",
       "        vertical-align: top;\n",
       "    }\n",
       "\n",
       "    .dataframe thead th {\n",
       "        text-align: right;\n",
       "    }\n",
       "</style>\n",
       "<table border=\"1\" class=\"dataframe\">\n",
       "  <thead>\n",
       "    <tr style=\"text-align: right;\">\n",
       "      <th></th>\n",
       "      <th>country</th>\n",
       "      <th>good-article-count</th>\n",
       "    </tr>\n",
       "  </thead>\n",
       "  <tbody>\n",
       "    <tr>\n",
       "      <th>0</th>\n",
       "      <td>AFGHANISTAN</td>\n",
       "      <td>10</td>\n",
       "    </tr>\n",
       "    <tr>\n",
       "      <th>1</th>\n",
       "      <td>ALBANIA</td>\n",
       "      <td>4</td>\n",
       "    </tr>\n",
       "    <tr>\n",
       "      <th>2</th>\n",
       "      <td>ALGERIA</td>\n",
       "      <td>2</td>\n",
       "    </tr>\n",
       "    <tr>\n",
       "      <th>3</th>\n",
       "      <td>ARGENTINA</td>\n",
       "      <td>15</td>\n",
       "    </tr>\n",
       "    <tr>\n",
       "      <th>4</th>\n",
       "      <td>ARMENIA</td>\n",
       "      <td>5</td>\n",
       "    </tr>\n",
       "  </tbody>\n",
       "</table>\n",
       "</div>"
      ],
      "text/plain": [
       "       country  good-article-count\n",
       "0  AFGHANISTAN                  10\n",
       "1      ALBANIA                   4\n",
       "2      ALGERIA                   2\n",
       "3    ARGENTINA                  15\n",
       "4      ARMENIA                   5"
      ]
     },
     "execution_count": 5,
     "metadata": {},
     "output_type": "execute_result"
    }
   ],
   "source": [
    "good_articles.head()"
   ]
  },
  {
   "cell_type": "code",
   "execution_count": 6,
   "metadata": {},
   "outputs": [
    {
     "data": {
      "text/html": [
       "<div>\n",
       "<style scoped>\n",
       "    .dataframe tbody tr th:only-of-type {\n",
       "        vertical-align: middle;\n",
       "    }\n",
       "\n",
       "    .dataframe tbody tr th {\n",
       "        vertical-align: top;\n",
       "    }\n",
       "\n",
       "    .dataframe thead th {\n",
       "        text-align: right;\n",
       "    }\n",
       "</style>\n",
       "<table border=\"1\" class=\"dataframe\">\n",
       "  <thead>\n",
       "    <tr style=\"text-align: right;\">\n",
       "      <th></th>\n",
       "      <th>country</th>\n",
       "      <th>total-articles</th>\n",
       "    </tr>\n",
       "  </thead>\n",
       "  <tbody>\n",
       "    <tr>\n",
       "      <th>0</th>\n",
       "      <td>AFGHANISTAN</td>\n",
       "      <td>326</td>\n",
       "    </tr>\n",
       "    <tr>\n",
       "      <th>1</th>\n",
       "      <td>ALBANIA</td>\n",
       "      <td>460</td>\n",
       "    </tr>\n",
       "    <tr>\n",
       "      <th>2</th>\n",
       "      <td>ALGERIA</td>\n",
       "      <td>119</td>\n",
       "    </tr>\n",
       "    <tr>\n",
       "      <th>3</th>\n",
       "      <td>ANDORRA</td>\n",
       "      <td>34</td>\n",
       "    </tr>\n",
       "    <tr>\n",
       "      <th>4</th>\n",
       "      <td>ANGOLA</td>\n",
       "      <td>110</td>\n",
       "    </tr>\n",
       "  </tbody>\n",
       "</table>\n",
       "</div>"
      ],
      "text/plain": [
       "       country  total-articles\n",
       "0  AFGHANISTAN             326\n",
       "1      ALBANIA             460\n",
       "2      ALGERIA             119\n",
       "3      ANDORRA              34\n",
       "4       ANGOLA             110"
      ]
     },
     "execution_count": 6,
     "metadata": {},
     "output_type": "execute_result"
    }
   ],
   "source": [
    "all_articles.head()"
   ]
  },
  {
   "cell_type": "markdown",
   "metadata": {},
   "source": [
    "Again, easier to work in dictionary datatype, so convert above dataframes to dictionary analogs. \n",
    "Then using that create the first required field, *articles-per-population* by creating a dictionary of <country, articles-per-population> pairs, noting that the population units are in millions."
   ]
  },
  {
   "cell_type": "code",
   "execution_count": 119,
   "metadata": {},
   "outputs": [],
   "source": [
    "# create dictionary analogs \n",
    "good_article_dict = good_articles.set_index('country')['good-article-count'].to_dict()\n",
    "total_article_dict = all_articles.set_index('country')['total-articles'].to_dict()\n",
    "\n",
    "# create article-percentages dictionary \n",
    "article_percentages = {c: 100/1e6*(total_article_dict[c]/pop_dict[c]) for c in total_article_dict}\n",
    "\n",
    "# create article-percentages dataframe for easy tabular viewing\n",
    "article_perc_df = pd.DataFrame.from_dict(article_percentages, orient='index')\n",
    "article_perc_df = article_perc_df.reset_index().rename(index=str, columns={'index': 'Country',0:'article-percentage'})"
   ]
  },
  {
   "cell_type": "markdown",
   "metadata": {},
   "source": [
    "View some of the percentages"
   ]
  },
  {
   "cell_type": "code",
   "execution_count": 120,
   "metadata": {},
   "outputs": [
    {
     "data": {
      "text/html": [
       "<div>\n",
       "<style scoped>\n",
       "    .dataframe tbody tr th:only-of-type {\n",
       "        vertical-align: middle;\n",
       "    }\n",
       "\n",
       "    .dataframe tbody tr th {\n",
       "        vertical-align: top;\n",
       "    }\n",
       "\n",
       "    .dataframe thead th {\n",
       "        text-align: right;\n",
       "    }\n",
       "</style>\n",
       "<table border=\"1\" class=\"dataframe\">\n",
       "  <thead>\n",
       "    <tr style=\"text-align: right;\">\n",
       "      <th></th>\n",
       "      <th>Country</th>\n",
       "      <th>article-percentage</th>\n",
       "    </tr>\n",
       "  </thead>\n",
       "  <tbody>\n",
       "    <tr>\n",
       "      <th>0</th>\n",
       "      <td>AFGHANISTAN</td>\n",
       "      <td>0.000893</td>\n",
       "    </tr>\n",
       "    <tr>\n",
       "      <th>1</th>\n",
       "      <td>ALBANIA</td>\n",
       "      <td>0.015862</td>\n",
       "    </tr>\n",
       "    <tr>\n",
       "      <th>2</th>\n",
       "      <td>ALGERIA</td>\n",
       "      <td>0.000279</td>\n",
       "    </tr>\n",
       "    <tr>\n",
       "      <th>3</th>\n",
       "      <td>ANDORRA</td>\n",
       "      <td>0.042500</td>\n",
       "    </tr>\n",
       "    <tr>\n",
       "      <th>4</th>\n",
       "      <td>ANGOLA</td>\n",
       "      <td>0.000362</td>\n",
       "    </tr>\n",
       "  </tbody>\n",
       "</table>\n",
       "</div>"
      ],
      "text/plain": [
       "       Country  article-percentage\n",
       "0  AFGHANISTAN            0.000893\n",
       "1      ALBANIA            0.015862\n",
       "2      ALGERIA            0.000279\n",
       "3      ANDORRA            0.042500\n",
       "4       ANGOLA            0.000362"
      ]
     },
     "execution_count": 120,
     "metadata": {},
     "output_type": "execute_result"
    }
   ],
   "source": [
    "article_perc_df.head()"
   ]
  },
  {
   "cell_type": "markdown",
   "metadata": {},
   "source": [
    "It's also important to verify the data is correct. To do take Bosnia-Herzegovina as an example. The article-percentage for this one is 0.005. Now look at all entries in the dictionary for that country, and check the math"
   ]
  },
  {
   "cell_type": "code",
   "execution_count": 16,
   "metadata": {},
   "outputs": [
    {
     "name": "stdout",
     "output_type": "stream",
     "text": [
      "Bosnia-Herzegovina has 177 rows\n"
     ]
    },
    {
     "data": {
      "text/html": [
       "<div>\n",
       "<style scoped>\n",
       "    .dataframe tbody tr th:only-of-type {\n",
       "        vertical-align: middle;\n",
       "    }\n",
       "\n",
       "    .dataframe tbody tr th {\n",
       "        vertical-align: top;\n",
       "    }\n",
       "\n",
       "    .dataframe thead th {\n",
       "        text-align: right;\n",
       "    }\n",
       "</style>\n",
       "<table border=\"1\" class=\"dataframe\">\n",
       "  <thead>\n",
       "    <tr style=\"text-align: right;\">\n",
       "      <th></th>\n",
       "      <th>Unnamed: 0</th>\n",
       "      <th>page</th>\n",
       "      <th>country</th>\n",
       "      <th>rev_id</th>\n",
       "      <th>prediction</th>\n",
       "      <th>Geography</th>\n",
       "      <th>population</th>\n",
       "    </tr>\n",
       "  </thead>\n",
       "  <tbody>\n",
       "    <tr>\n",
       "      <th>36970</th>\n",
       "      <td>36970</td>\n",
       "      <td>Template:BosniaHerzegovina-mayor-stub</td>\n",
       "      <td>BOSNIA-HERZEGOVINA</td>\n",
       "      <td>540988222</td>\n",
       "      <td>Stub</td>\n",
       "      <td>BOSNIA-HERZEGOVINA</td>\n",
       "      <td>3.5</td>\n",
       "    </tr>\n",
       "    <tr>\n",
       "      <th>36971</th>\n",
       "      <td>36971</td>\n",
       "      <td>Template:BosniaHerzegovina-diplomat-stub</td>\n",
       "      <td>BOSNIA-HERZEGOVINA</td>\n",
       "      <td>540993917</td>\n",
       "      <td>Stub</td>\n",
       "      <td>BOSNIA-HERZEGOVINA</td>\n",
       "      <td>3.5</td>\n",
       "    </tr>\n",
       "    <tr>\n",
       "      <th>36972</th>\n",
       "      <td>36972</td>\n",
       "      <td>Template:Prime Ministers of Republika Srpska</td>\n",
       "      <td>BOSNIA-HERZEGOVINA</td>\n",
       "      <td>648935308</td>\n",
       "      <td>Stub</td>\n",
       "      <td>BOSNIA-HERZEGOVINA</td>\n",
       "      <td>3.5</td>\n",
       "    </tr>\n",
       "    <tr>\n",
       "      <th>36973</th>\n",
       "      <td>36973</td>\n",
       "      <td>Template:Prime Ministers of the Federation of ...</td>\n",
       "      <td>BOSNIA-HERZEGOVINA</td>\n",
       "      <td>651745952</td>\n",
       "      <td>Stub</td>\n",
       "      <td>BOSNIA-HERZEGOVINA</td>\n",
       "      <td>3.5</td>\n",
       "    </tr>\n",
       "    <tr>\n",
       "      <th>36974</th>\n",
       "      <td>36974</td>\n",
       "      <td>Aljoša Čampara</td>\n",
       "      <td>BOSNIA-HERZEGOVINA</td>\n",
       "      <td>660884852</td>\n",
       "      <td>Start</td>\n",
       "      <td>BOSNIA-HERZEGOVINA</td>\n",
       "      <td>3.5</td>\n",
       "    </tr>\n",
       "  </tbody>\n",
       "</table>\n",
       "</div>"
      ],
      "text/plain": [
       "       Unnamed: 0                                               page  \\\n",
       "36970       36970              Template:BosniaHerzegovina-mayor-stub   \n",
       "36971       36971           Template:BosniaHerzegovina-diplomat-stub   \n",
       "36972       36972       Template:Prime Ministers of Republika Srpska   \n",
       "36973       36973  Template:Prime Ministers of the Federation of ...   \n",
       "36974       36974                                     Aljoša Čampara   \n",
       "\n",
       "                  country     rev_id prediction           Geography population  \n",
       "36970  BOSNIA-HERZEGOVINA  540988222       Stub  BOSNIA-HERZEGOVINA        3.5  \n",
       "36971  BOSNIA-HERZEGOVINA  540993917       Stub  BOSNIA-HERZEGOVINA        3.5  \n",
       "36972  BOSNIA-HERZEGOVINA  648935308       Stub  BOSNIA-HERZEGOVINA        3.5  \n",
       "36973  BOSNIA-HERZEGOVINA  651745952       Stub  BOSNIA-HERZEGOVINA        3.5  \n",
       "36974  BOSNIA-HERZEGOVINA  660884852      Start  BOSNIA-HERZEGOVINA        3.5  "
      ]
     },
     "execution_count": 16,
     "metadata": {},
     "output_type": "execute_result"
    }
   ],
   "source": [
    "# Test results \n",
    "\n",
    "#Bosnia-Herzegovina \n",
    "x = master_data[master_data['country'] == 'BOSNIA-HERZEGOVINA']\n",
    "print(\"Bosnia-Herzegovina has {} rows\".format(x.shape[0]))\n",
    "x.head()"
   ]
  },
  {
   "cell_type": "markdown",
   "metadata": {},
   "source": [
    "We can see that Bosnia-Hercegovina has 3.5 M people as of this timestamp, and 177 total articles. \n",
    "- 177/3.5e6 * 100 = .005 \n",
    "\n",
    "Correct!"
   ]
  },
  {
   "cell_type": "markdown",
   "metadata": {},
   "source": [
    "Now pertinent to the dictionary for *good-article* counts, note that some countries are not present in this list, for whatever reason. Perhaps there were no FA/GA articles for said country, etc. Examine that \"missing\" list below: "
   ]
  },
  {
   "cell_type": "code",
   "execution_count": 17,
   "metadata": {},
   "outputs": [
    {
     "data": {
      "text/plain": [
       "{'ANDORRA',\n",
       " 'ANGOLA',\n",
       " 'ANTIGUA AND BARBUDA',\n",
       " 'BAHAMAS',\n",
       " 'BARBADOS',\n",
       " 'BELGIUM',\n",
       " 'BELIZE',\n",
       " 'CAMEROON',\n",
       " 'CAPE VERDE',\n",
       " 'COMOROS',\n",
       " 'COSTA RICA',\n",
       " 'DJIBOUTI',\n",
       " 'FEDERATED STATES OF MICRONESIA',\n",
       " 'FINLAND',\n",
       " 'GUYANA',\n",
       " 'KAZAKHSTAN',\n",
       " 'KIRIBATI',\n",
       " 'LESOTHO',\n",
       " 'LIECHTENSTEIN',\n",
       " 'MACEDONIA',\n",
       " 'MALTA',\n",
       " 'MARSHALL ISLANDS',\n",
       " 'MOLDOVA',\n",
       " 'MONACO',\n",
       " 'MOZAMBIQUE',\n",
       " 'NAURU',\n",
       " 'NEPAL',\n",
       " 'SAN MARINO',\n",
       " 'SAO TOME AND PRINCIPE',\n",
       " 'SEYCHELLES',\n",
       " 'SLOVAKIA',\n",
       " 'SOLOMON ISLANDS',\n",
       " 'SWITZERLAND',\n",
       " 'TUNISIA',\n",
       " 'TURKMENISTAN',\n",
       " 'UGANDA',\n",
       " 'ZAMBIA'}"
      ]
     },
     "execution_count": 17,
     "metadata": {},
     "output_type": "execute_result"
    }
   ],
   "source": [
    "# find set difference\n",
    "\n",
    "setGood = set(good_article_dict.keys())\n",
    "setAll = set(total_article_dict.keys())\n",
    "setAll - setGood"
   ]
  },
  {
   "cell_type": "markdown",
   "metadata": {},
   "source": [
    "In the analysis section, this set of \"missing\" countries is analyzed in the broader probing of bias and role of geolocation"
   ]
  },
  {
   "cell_type": "markdown",
   "metadata": {},
   "source": [
    "Last but not least, create dictionary and dataframe for the percentage of good-articles of total articles for that country, as required by assignment."
   ]
  },
  {
   "cell_type": "code",
   "execution_count": 18,
   "metadata": {},
   "outputs": [],
   "source": [
    "good_article_percentages = {c: 100*(good_article_dict[c] / total_article_dict[c]) for c in good_article_dict}\n",
    "good_article_df = pd.DataFrame.from_dict(good_article_percentages, orient='index')\n",
    "good_article_df = good_article_df.reset_index().rename(index=str,columns={'index':'country', 0:'good-art-perc'})"
   ]
  },
  {
   "cell_type": "markdown",
   "metadata": {},
   "source": [
    "# 4. Results\n",
    "\n",
    "The required 4 tables are produced below. Code will generate a .png file for each of the \"top (bottom) 10\" tables. Then the 4 tables are showed as one at the end of this section.  \n",
    "\n",
    "## i. 10 highest-ranked countries in terms of number of politician articles as a proportion of country population"
   ]
  },
  {
   "cell_type": "code",
   "execution_count": 94,
   "metadata": {},
   "outputs": [
    {
     "data": {
      "image/png": "[encoded data removed]",
      "text/plain": [
       "<Figure size 576x216 with 1 Axes>"
      ]
     },
     "metadata": {},
     "output_type": "display_data"
    }
   ],
   "source": [
    "# Get top 10 \n",
    "t1 = article_perc_df.sort_values(by=['article-percentage'],ascending=False).head(10)\n",
    "\n",
    "# convert percentage column to formatted string \n",
    "t1['article-percentage'] = list(map(lambda x: str(round(x,2))+\"%\", t1['article-percentage'].tolist()))\n",
    "\n",
    "# Save to .png file. \n",
    "# Adapted from https://stackoverflow.com/questions/44751045/save-pandas-table-filled-with-strings-as-png\n",
    "fig,ax = plt.subplots(figsize=(8,3))\n",
    "ax.xaxis.set_visible(False)  # hide the x axis\n",
    "ax.yaxis.set_visible(False)  # hide the y axis\n",
    "tab = table(ax, t1, loc='upper center') \n",
    "tab.auto_set_font_size(False)\n",
    "tab.set_fontsize(10) \n",
    "fig.tight_layout()\n",
    "plt.title(\"10 highest-ranked countries in terms of number of politician articles as a proportion of country population\")\n",
    "plt.savefig('highest-rank-by-article-percentage.png')\n"
   ]
  },
  {
   "cell_type": "markdown",
   "metadata": {},
   "source": [
    "## ii. 10 lowest-ranked countries in terms of number of politician articles as a proportion of country population"
   ]
  },
  {
   "cell_type": "code",
   "execution_count": 95,
   "metadata": {},
   "outputs": [
    {
     "data": {
      "image/png": "[encoded data removed]",
      "text/plain": [
       "<Figure size 576x216 with 1 Axes>"
      ]
     },
     "metadata": {},
     "output_type": "display_data"
    }
   ],
   "source": [
    "# Get bottom 10 \n",
    "t1 = article_perc_df.sort_values(by=['article-percentage'],ascending=False).tail(10)\n",
    "\n",
    "# convert percentage column to formatted string \n",
    "t1['article-percentage'] = list(map(lambda x: str(round(x,5))+\"%\", t1['article-percentage'].tolist()))\n",
    "\n",
    "# Save to .png file. \n",
    "# Adapted from https://stackoverflow.com/questions/44751045/save-pandas-table-filled-with-strings-as-png\n",
    "fig,ax = plt.subplots(figsize=(8,3))\n",
    "ax.xaxis.set_visible(False)  # hide the x axis\n",
    "ax.yaxis.set_visible(False)  # hide the y axis\n",
    "tab = table(ax, t1, loc='upper center') \n",
    "tab.auto_set_font_size(False)\n",
    "tab.set_fontsize(10) \n",
    "fig.tight_layout()\n",
    "plt.title(\"10 lowest-ranked countries in terms of number of politician articles as a proportion of country population\")\n",
    "plt.savefig('lowest-rank-by-article-percentage.png')\n",
    "\n"
   ]
  },
  {
   "cell_type": "markdown",
   "metadata": {},
   "source": [
    "## iii. 10 highest-ranked countries in terms of number of GA and FA-quality articles as a proportion of all articles about politicians from that country"
   ]
  },
  {
   "cell_type": "code",
   "execution_count": 96,
   "metadata": {},
   "outputs": [
    {
     "data": {
      "image/png": "[encoded data removed]",
      "text/plain": [
       "<Figure size 576x216 with 1 Axes>"
      ]
     },
     "metadata": {},
     "output_type": "display_data"
    }
   ],
   "source": [
    "# Get top 10 \n",
    "t1 = good_article_df.sort_values(by=['good-art-perc'],ascending=False).head(10)\n",
    "\n",
    "# convert percentage column to formatted string \n",
    "t1['good-art-perc'] = list(map(lambda x: str(round(x,5))+\"%\", t1['good-art-perc'].tolist()))\n",
    "\n",
    "# Save to .png file. \n",
    "# Adapted from https://stackoverflow.com/questions/44751045/save-pandas-table-filled-with-strings-as-png\n",
    "fig,ax = plt.subplots(figsize=(8,3))\n",
    "ax.xaxis.set_visible(False)  # hide the x axis\n",
    "ax.yaxis.set_visible(False)  # hide the y axis\n",
    "tab = table(ax, t1, loc='upper center') \n",
    "tab.auto_set_font_size(False)\n",
    "tab.set_fontsize(10) \n",
    "fig.tight_layout()\n",
    "plt.title(\"10 highest-ranked countries in terms of number of GA and FA-quality articles as a proportion of all articles about politicians from that country\")\n",
    "plt.savefig('highest-rank-by-good-articles.png')\n",
    "\n",
    "\n"
   ]
  },
  {
   "cell_type": "markdown",
   "metadata": {},
   "source": [
    "## iv. 10 lowest-ranked countries in terms of number of GA and FA-quality articles as a proportion of all articles about politicians from that country"
   ]
  },
  {
   "cell_type": "code",
   "execution_count": 97,
   "metadata": {},
   "outputs": [
    {
     "data": {
      "image/png": "[encoded data removed]",
      "text/plain": [
       "<Figure size 576x216 with 1 Axes>"
      ]
     },
     "metadata": {},
     "output_type": "display_data"
    }
   ],
   "source": [
    "# Get bottom 10 \n",
    "t1 = good_article_df.sort_values(by=['good-art-perc'],ascending=False).tail(10)\n",
    "\n",
    "# convert percentage column to formatted string \n",
    "t1['good-art-perc'] = list(map(lambda x: str(round(x,5))+\"%\", t1['good-art-perc'].tolist()))\n",
    "\n",
    "# Save to .png file. \n",
    "# Adapted from https://stackoverflow.com/questions/44751045/save-pandas-table-filled-with-strings-as-png\n",
    "fig,ax = plt.subplots(figsize=(8,3))\n",
    "ax.xaxis.set_visible(False)  # hide the x axis\n",
    "ax.yaxis.set_visible(False)  # hide the y axis\n",
    "tab = table(ax, t1, loc='upper center') \n",
    "tab.auto_set_font_size(False)\n",
    "tab.set_fontsize(10) \n",
    "fig.tight_layout()\n",
    "plt.title(\"10 lowest-ranked countries in terms of number of GA and FA-quality articles as a proportion of all articles about politicians from that country\")\n",
    "plt.savefig('lowest-rank-by-good-articles.png')\n",
    "\n",
    "\n",
    "\n"
   ]
  },
  {
   "cell_type": "markdown",
   "metadata": {},
   "source": [
    "### Tables Summary: "
   ]
  },
  {
   "cell_type": "code",
   "execution_count": 98,
   "metadata": {},
   "outputs": [
    {
     "data": {
      "text/html": [
       "<tr><td><img src='highest-rank-by-good-articles.png'></td>              <td><img src='lowest-rank-by-good-articles.png'></td></tr>"
      ],
      "text/plain": [
       "<IPython.core.display.HTML object>"
      ]
     },
     "metadata": {},
     "output_type": "display_data"
    }
   ],
   "source": [
    "display(HTML(\"<tr><td><img src='highest-rank-by-good-articles.png'></td> \\\n",
    "             <td><img src='lowest-rank-by-good-articles.png'></td></tr>\"))"
   ]
  },
  {
   "cell_type": "code",
   "execution_count": 99,
   "metadata": {},
   "outputs": [
    {
     "data": {
      "text/html": [
       "<tr><td><img  src='highest-rank-by-article-percentage.png'></td>              <td><img  src='lowest-rank-by-article-percentage.png'></td></tr>"
      ],
      "text/plain": [
       "<IPython.core.display.HTML object>"
      ]
     },
     "metadata": {},
     "output_type": "display_data"
    }
   ],
   "source": [
    "display(HTML(\"<tr><td><img  src='highest-rank-by-article-percentage.png'></td> \\\n",
    "             <td><img  src='lowest-rank-by-article-percentage.png'></td></tr>\"))"
   ]
  },
  {
   "cell_type": "markdown",
   "metadata": {},
   "source": [
    "# 5. Analysis I: Clustering and Z Scores\n",
    "\n",
    "Again, this report seeks to probe for bias based the following factors: \n",
    "- population \n",
    "- article-percentage, henceforth called AP\n",
    "- good article-percentage of all articles, henceforth called GAP\n",
    "- country\n",
    "- geography (see following section)\n",
    "- general knowledge \n",
    "\n",
    "Henceforth, report will refer to Good-Article-Percentage as GAP and Article Percentage (of population) as APOP\n",
    "Given this set, this report makes the assumption that bias manifests through a statistical framework. Consider the following scenario: \n",
    "\n",
    "Suppose a country X has population of 100,000. Total number of Wiki articles for politicians in X is 1000. Then APOP is 1. Now say X's GAP percentage is 50%, that is it has 500 GA/FA articles. Now, suppose there exist other countries whose APOPs ~= 1\n",
    "\n",
    "We define bias to (qualitatively) exist if: **the z-score of X's GAP value, within the context/samples of the GAP values of its peer group -- where the peer group is the set of all countries with APOP ~=1 (in this example) -- is large, particularly greater than the standard thresholding value of 2. **\n",
    "\n",
    "This definition may be subject to debate, but the author of this report deemed it intuitive enough, and since the exploration of bias is limited to those 6 criteria, thought it was apropos given the \"constraints\" and scope of this assignment. \n",
    "\n",
    "The steps needed to produce this analysis are: \n",
    "1. Create a data frame of <article-percentage, country_id> pairs as string datatype cannot be used in a KMeans classifier\n",
    "2. Establish the mapping between country_id and country names\n",
    "3. Create and train a scikit-learn KMeans classifier with 10 clusters on the set of article-percentage values\n",
    "4. Create function to determine which country_ids (and by extension which countries) are in each cluster, after training of the classifier. This allows us to retrieve each country's PEER GROUP\n",
    "5. Create function that takes as input a country name X, and obtain the GAP scores of each country in X's PEER GROUP, and then returns the z-score of X's individual GAP score, within the context of that PEER GROUP\n",
    "6. Run function in step 5 for all countries in the master dataset to obtain a dataframe comprised of *(COUNTRY NAME, GAP-PEERGROUP Z SCORE)* pairs \n",
    "7. Examine the distribution of the GAP-PEERGROUP Z scores. If there are fat tails (i.e. there are a lot of countries with very high scores and vice versa), then we say there is bias in the dataset. \n",
    "\n"
   ]
  },
  {
   "cell_type": "markdown",
   "metadata": {},
   "source": [
    "## Step 1: Modified Dataframe"
   ]
  },
  {
   "cell_type": "code",
   "execution_count": 121,
   "metadata": {},
   "outputs": [
    {
     "data": {
      "text/html": [
       "<div>\n",
       "<style scoped>\n",
       "    .dataframe tbody tr th:only-of-type {\n",
       "        vertical-align: middle;\n",
       "    }\n",
       "\n",
       "    .dataframe tbody tr th {\n",
       "        vertical-align: top;\n",
       "    }\n",
       "\n",
       "    .dataframe thead th {\n",
       "        text-align: right;\n",
       "    }\n",
       "</style>\n",
       "<table border=\"1\" class=\"dataframe\">\n",
       "  <thead>\n",
       "    <tr style=\"text-align: right;\">\n",
       "      <th></th>\n",
       "      <th>article-percentage</th>\n",
       "      <th>C_id</th>\n",
       "    </tr>\n",
       "  </thead>\n",
       "  <tbody>\n",
       "    <tr>\n",
       "      <th>0</th>\n",
       "      <td>0.000893</td>\n",
       "      <td>0</td>\n",
       "    </tr>\n",
       "    <tr>\n",
       "      <th>1</th>\n",
       "      <td>0.015862</td>\n",
       "      <td>1</td>\n",
       "    </tr>\n",
       "    <tr>\n",
       "      <th>2</th>\n",
       "      <td>0.000279</td>\n",
       "      <td>2</td>\n",
       "    </tr>\n",
       "    <tr>\n",
       "      <th>3</th>\n",
       "      <td>0.042500</td>\n",
       "      <td>3</td>\n",
       "    </tr>\n",
       "    <tr>\n",
       "      <th>4</th>\n",
       "      <td>0.000362</td>\n",
       "      <td>4</td>\n",
       "    </tr>\n",
       "  </tbody>\n",
       "</table>\n",
       "</div>"
      ],
      "text/plain": [
       "   article-percentage  C_id\n",
       "0            0.000893     0\n",
       "1            0.015862     1\n",
       "2            0.000279     2\n",
       "3            0.042500     3\n",
       "4            0.000362     4"
      ]
     },
     "execution_count": 121,
     "metadata": {},
     "output_type": "execute_result"
    }
   ],
   "source": [
    "new_art_perc_df = article_perc_df\n",
    "new_art_perc_df['C_id'] = pd.Categorical(article_perc_df.Country).codes\n",
    "new_art_perc_df = new_art_perc_df.drop(['Country'],axis=1)\n",
    "new_art_perc_df.head()"
   ]
  },
  {
   "cell_type": "markdown",
   "metadata": {},
   "source": [
    "## Step 2: Mapping and Inverse Map\n",
    "\n",
    "Define the mapping, and an inverse mapping, of C_id to Country Name, as to be able to reference the output of the K-Means clustering (i.e. what are the C_Ids and thereby what countries) are in each cluster. \n",
    "\n",
    "*Note that this mapping is equivalent to the alphabetical country ordering as can be seen in the dataframe. That is *country with **C_id=N is the same as the Nth country alphabetically**"
   ]
  },
  {
   "cell_type": "code",
   "execution_count": 137,
   "metadata": {},
   "outputs": [],
   "source": [
    "mapping = dict(zip(new_art_perc_df['C_id'].tolist(), article_perc_df['Country'].tolist()))\n",
    "inverse_mapping = dict(zip(article_perc_df['Country'].tolist(), new_art_perc_df['C_id'].tolist()))"
   ]
  },
  {
   "cell_type": "markdown",
   "metadata": {},
   "source": [
    "## Step 3: KMeans Classifier"
   ]
  },
  {
   "cell_type": "code",
   "execution_count": 158,
   "metadata": {},
   "outputs": [
    {
     "data": {
      "text/plain": [
       "array([4, 5, 4, 7, 4, 5, 4, 9, 9, 9, 4, 9, 9, 4, 9, 4, 9, 9, 4, 9, 4, 9,\n",
       "       9, 4, 9, 4, 4, 4, 4, 4, 9, 4, 4, 4, 4, 4, 9, 9, 9, 9, 4, 0, 9, 9,\n",
       "       5, 4, 4, 4, 4, 4, 0, 4, 7, 5, 0, 9, 9, 9, 4, 4, 9, 7, 4, 4, 4, 4,\n",
       "       4, 9, 3, 4, 4, 4, 4, 0, 9, 4, 9, 4, 4, 4, 4, 7, 4, 4, 9, 4, 4, 4,\n",
       "       9, 9, 4, 9, 4, 3, 0, 7, 9, 4, 4, 4, 5, 4, 5, 3, 4, 9, 4, 0, 6, 9,\n",
       "       0, 4, 4, 4, 9, 8, 4, 9, 5, 4, 4, 4, 0, 4, 9, 4, 4, 4, 4, 4, 9, 4,\n",
       "       4, 4, 4, 2, 0, 4, 4, 9, 5, 4, 4, 4, 9, 0, 4, 4, 4, 4, 4, 4, 9, 9,\n",
       "       9, 4, 4, 4, 4, 4, 4, 3, 4, 4, 4, 4, 1, 4, 4, 4, 4, 4, 0, 4, 5, 4,\n",
       "       4, 4, 4, 4], dtype=int32)"
      ]
     },
     "execution_count": 158,
     "metadata": {},
     "output_type": "execute_result"
    }
   ],
   "source": [
    "# create K-Means classifier with 10 clusters (chosen arbitrarily), and fit this to the \n",
    "# article-percentage values\n",
    "vals = np.array(new_art_perc_df['article-percentage']).reshape([-1,1])\n",
    "kmeans = KMeans(n_clusters=10, random_state=0).fit(vals)"
   ]
  },
  {
   "cell_type": "markdown",
   "metadata": {},
   "source": [
    "## Step 4: Determining Peer Group and Helper Functions\n",
    "\n",
    "Now, we will need a way to figure out what the values in each cluster index are. That is, I want to determine the Z-score of North Korea's GAP for within the context of the APOPs of its \"peer group\" -- peer group coming from the elements in its cluster. The function below is taken from # https://stackoverflow.com/questions/36195457/python-sklearn-kmeans-how-to-get-the-values-in-the-cluster and accomplishes that"
   ]
  },
  {
   "cell_type": "code",
   "execution_count": 154,
   "metadata": {},
   "outputs": [],
   "source": [
    "\n",
    "def ClusterIndicesNumpy(clustNum, labels_array): #numpy \n",
    "    return np.where(labels_array == clustNum)[0]\n"
   ]
  },
  {
   "cell_type": "markdown",
   "metadata": {},
   "source": [
    "As example, view the C_ids in cluster index 0"
   ]
  },
  {
   "cell_type": "code",
   "execution_count": 155,
   "metadata": {},
   "outputs": [
    {
     "data": {
      "text/plain": [
       "array([ 41,  50,  54,  73,  94, 107, 110, 122, 136, 145, 172])"
      ]
     },
     "execution_count": 155,
     "metadata": {},
     "output_type": "execute_result"
    }
   ],
   "source": [
    "ClusterIndicesNumpy(0, kmeans.labels_)"
   ]
  },
  {
   "cell_type": "markdown",
   "metadata": {},
   "source": [
    "And moreover, view those countries: \n",
    "\n",
    "This is allowed since as discussed above, the mapping is equivalent to the country order"
   ]
  },
  {
   "cell_type": "code",
   "execution_count": 156,
   "metadata": {},
   "outputs": [
    {
     "data": {
      "text/plain": [
       "['CYPRUS',\n",
       " 'ESTONIA',\n",
       " 'FINLAND',\n",
       " 'IRELAND',\n",
       " 'LITHUANIA',\n",
       " 'MOLDOVA',\n",
       " 'MONTENEGRO',\n",
       " 'NORWAY',\n",
       " 'SAO TOME AND PRINCIPE',\n",
       " 'SOLOMON ISLANDS',\n",
       " 'URUGUAY']"
      ]
     },
     "execution_count": 156,
     "metadata": {},
     "output_type": "execute_result"
    }
   ],
   "source": [
    "[mapping[cid] for cid in ClusterIndicesNumpy(0, kmeans.labels_) ]"
   ]
  },
  {
   "cell_type": "markdown",
   "metadata": {},
   "source": [
    "And as a sanity check, view each of the APOPs in this \"peer group\""
   ]
  },
  {
   "cell_type": "code",
   "execution_count": 157,
   "metadata": {},
   "outputs": [
    {
     "data": {
      "text/plain": [
       "[0.008416666666666668,\n",
       " 0.01176923076923077,\n",
       " 0.010400000000000001,\n",
       " 0.007775510204081633,\n",
       " 0.008857142857142859,\n",
       " 0.012171428571428571,\n",
       " 0.012333333333333335,\n",
       " 0.012415094339622642,\n",
       " 0.011000000000000001,\n",
       " 0.014,\n",
       " 0.008285714285714287]"
      ]
     },
     "execution_count": 157,
     "metadata": {},
     "output_type": "execute_result"
    }
   ],
   "source": [
    "[article_percentages[c] for c in [mapping[cid] for cid in ClusterIndicesNumpy(0, kmeans.labels_) ]]"
   ]
  },
  {
   "cell_type": "markdown",
   "metadata": {},
   "source": [
    "Looks okay..."
   ]
  },
  {
   "cell_type": "markdown",
   "metadata": {},
   "source": [
    "In addition, can view which cluster index is assigned to say, North Korea: "
   ]
  },
  {
   "cell_type": "code",
   "execution_count": 162,
   "metadata": {},
   "outputs": [
    {
     "data": {
      "text/plain": [
       "array([4], dtype=int32)"
      ]
     },
     "execution_count": 162,
     "metadata": {},
     "output_type": "execute_result"
    }
   ],
   "source": [
    "# figure out North Korea's C_id\n",
    "x = new_art_perc_df[new_art_perc_df['C_id'] == inverse_mapping['KOREA, NORTH']]\n",
    "\n",
    "# predict which cluster is assigned for NK's APOP value\n",
    "cluster_index = kmeans.predict(np.array(x['article-percentage']).reshape([-1,1]))\n",
    "cluster_index"
   ]
  },
  {
   "cell_type": "markdown",
   "metadata": {},
   "source": [
    "At this point, we have clustered the countries based on APOP. Now need to define a function that takes, for any given country *X* and its associated *X.GAP* score, the canonical statistical z-score of *X.GAP* formed from the sample points in *X's* cluster/peer-countries based on APOP. The steps in the function are essentially the previous steps above combined into a single instruction set"
   ]
  },
  {
   "cell_type": "code",
   "execution_count": 178,
   "metadata": {},
   "outputs": [],
   "source": [
    "def gap_clusterbased_zscore(country_name, km): \n",
    "    # get C_id\n",
    "    cid = inverse_mapping[country_name]\n",
    "    \n",
    "    # get row in dataframe \n",
    "    x = new_art_perc_df[new_art_perc_df['C_id'] == cid]\n",
    "    \n",
    "    # get APOP value and convert to numpy 2D array as required for KMeans\n",
    "    apop = np.array(x['article-percentage']).reshape([-1,1])\n",
    "    \n",
    "    # predict the cluster index for country_name\n",
    "    cluster_index = km.predict(apop)\n",
    "    \n",
    "    # get peer group for country \n",
    "    peer_group = [mapping[cid] for cid in ClusterIndicesNumpy(cluster_index, km.labels_) ]\n",
    "    \n",
    "    # get GAP scores for each country in peer group\n",
    "    # if country has a GAP\n",
    "    GAP_scores = [good_article_percentages[c] for c in peer_group if c in good_article_percentages]\n",
    "    \n",
    "    # return the z-score based on the GAP scores \n",
    "    # of the peer group \n",
    "    # if the country does not exist, return NaN\n",
    "    if (country_name in good_article_percentages): \n",
    "        my_GAP_score = good_article_percentages[country_name]\n",
    "        return (my_GAP_score - np.mean(GAP_scores))/np.std(GAP_scores)\n",
    "    else: \n",
    "        return float('NaN')"
   ]
  },
  {
   "cell_type": "markdown",
   "metadata": {},
   "source": [
    "As an example, view the GAP-PeerGroup Z score for North Korea: "
   ]
  },
  {
   "cell_type": "code",
   "execution_count": 179,
   "metadata": {},
   "outputs": [
    {
     "data": {
      "text/plain": [
       "5.10758209043856"
      ]
     },
     "execution_count": 179,
     "metadata": {},
     "output_type": "execute_result"
    }
   ],
   "source": [
    "gap_clusterbased_zscore(\"KOREA, NORTH\", kmeans)"
   ]
  },
  {
   "cell_type": "markdown",
   "metadata": {},
   "source": [
    "Very High!!"
   ]
  },
  {
   "cell_type": "markdown",
   "metadata": {},
   "source": [
    "## Step 6. Run *get_clusterbased_zscore* on Master Dataframe\n",
    "\n",
    "*Noting that values with nan should be discarded*"
   ]
  },
  {
   "cell_type": "code",
   "execution_count": 183,
   "metadata": {},
   "outputs": [
    {
     "name": "stderr",
     "output_type": "stream",
     "text": [
      "/Users/rahulbirmiwal/miniconda3/lib/python3.6/site-packages/ipykernel_launcher.py:26: RuntimeWarning: invalid value encountered in double_scalars\n"
     ]
    }
   ],
   "source": [
    "gap_zscore_dict = {c:gap_clusterbased_zscore(c, kmeans) for c in master_data['country'].tolist()}"
   ]
  },
  {
   "cell_type": "markdown",
   "metadata": {},
   "source": [
    "As before, convert to dataframe and view results. Remove any values with nan. Save top and bottom 15 as images for reuse. "
   ]
  },
  {
   "cell_type": "code",
   "execution_count": 199,
   "metadata": {},
   "outputs": [
    {
     "name": "stderr",
     "output_type": "stream",
     "text": [
      "/Users/rahulbirmiwal/miniconda3/lib/python3.6/site-packages/ipykernel_launcher.py:6: SettingWithCopyWarning: \n",
      "A value is trying to be set on a copy of a slice from a DataFrame.\n",
      "Try using .loc[row_indexer,col_indexer] = value instead\n",
      "\n",
      "See the caveats in the documentation: http://pandas.pydata.org/pandas-docs/stable/indexing.html#indexing-view-versus-copy\n",
      "  \n",
      "/Users/rahulbirmiwal/miniconda3/lib/python3.6/site-packages/ipykernel_launcher.py:25: SettingWithCopyWarning: \n",
      "A value is trying to be set on a copy of a slice from a DataFrame.\n",
      "Try using .loc[row_indexer,col_indexer] = value instead\n",
      "\n",
      "See the caveats in the documentation: http://pandas.pydata.org/pandas-docs/stable/indexing.html#indexing-view-versus-copy\n"
     ]
    },
    {
     "data": {
      "image/png": "[encoded data removed]",
      "text/plain": [
       "<Figure size 576x216 with 1 Axes>"
      ]
     },
     "metadata": {},
     "output_type": "display_data"
    },
    {
     "data": {
      "image/png": "[encoded data removed]",
      "text/plain": [
       "<Figure size 576x216 with 1 Axes>"
      ]
     },
     "metadata": {},
     "output_type": "display_data"
    }
   ],
   "source": [
    "# convert to dataframe\n",
    "gap_zscore_df = pd.DataFrame.from_dict(gap_zscore_dict, orient='index') \\\n",
    "            .reset_index().rename(index=str, columns={'index':'Country', 0:'GAP-ZScore'})  \\\n",
    "            .sort_values(by=['GAP-ZScore'],ascending=False).dropna()\n",
    "\n",
    "# convert percentage column to formatted string \n",
    "t1 = gap_zscore_df.head(15)\n",
    "t1['GAP-ZScore'] = list(map(lambda x: str(round(x,3)), t1['GAP-ZScore'].tolist()))\n",
    "\n",
    "# like before, save to png image for resuse\n",
    "\n",
    "# Adapted from https://stackoverflow.com/questions/44751045/save-pandas-table-filled-with-strings-as-png\n",
    "fig,ax = plt.subplots(figsize=(8,3))\n",
    "ax.xaxis.set_visible(False)  # hide the x axis\n",
    "ax.yaxis.set_visible(False)  # hide the y axis\n",
    "tab = table(ax, t1, loc='upper center') \n",
    "tab.auto_set_font_size(False)\n",
    "tab.set_fontsize(10) \n",
    "fig.tight_layout()\n",
    "plt.title(\"Top 15 Nations by GAP-PeerGroup ZScore\")\n",
    "plt.savefig('highest-by-GAP-PeerGroupScore.png')\n",
    "\n",
    "\n",
    "\n",
    "# and likewise for the lowest 15 \n",
    "t1 = gap_zscore_df.tail(15)\n",
    "t1['GAP-ZScore'] = list(map(lambda x: str(round(x,3)), t1['GAP-ZScore'].tolist()))\n",
    "\n",
    "# like before, save to png image for resuse\n",
    "\n",
    "# Adapted from https://stackoverflow.com/questions/44751045/save-pandas-table-filled-with-strings-as-png\n",
    "fig,ax = plt.subplots(figsize=(8,3))\n",
    "ax.xaxis.set_visible(False)  # hide the x axis\n",
    "ax.yaxis.set_visible(False)  # hide the y axis\n",
    "tab = table(ax, t1, loc='upper center') \n",
    "tab.auto_set_font_size(False)\n",
    "tab.set_fontsize(10) \n",
    "fig.tight_layout()\n",
    "plt.title(\"Bottom 15 Nations by GAP-PeerGroup ZScore\")\n",
    "plt.savefig('lowest-by-GAP-PeerGroupScore.png')\n",
    "\n",
    "\n"
   ]
  },
  {
   "cell_type": "markdown",
   "metadata": {},
   "source": [
    "## Step 7. Distribution Analysis\n",
    "\n",
    "Examine the distribution of the GAP-ZScores. This section deals with the question \"is there bias in the dataset?\" as stated previously, this is done by examining said distribution and its potential deviance from the normal distribution. With the number of samples (number of countries in this case high), and by the Central Limit Theorem, assuming each country is treated \"independently,\" our \"bias-proxy\" ought to be reflected by the deviance from the normal curve. "
   ]
  },
  {
   "cell_type": "code",
   "execution_count": 204,
   "metadata": {},
   "outputs": [
    {
     "data": {
      "text/plain": [
       "Text(0.5,0,'GAP-ZScore')"
      ]
     },
     "execution_count": 204,
     "metadata": {},
     "output_type": "execute_result"
    },
    {
     "data": {
      "image/png": "[encoded data removed]",
      "text/plain": [
       "<Figure size 432x288 with 1 Axes>"
      ]
     },
     "metadata": {},
     "output_type": "display_data"
    }
   ],
   "source": [
    "# get array of GAP-Zscores: \n",
    "\n",
    "plt.figure()\n",
    "zs = np.array(gap_zscore_df['GAP-ZScore'])\n",
    "plt.hist(zs, bins='auto')\n",
    "plt.title(\"Distribution of GAP-ZScores\")\n",
    "plt.xlabel(\"GAP-ZScore\")"
   ]
  },
  {
   "cell_type": "markdown",
   "metadata": {},
   "source": [
    "Clearly, this distribution is NOT anything close to normal. Furthermore, it has considerable skew, with a lot of GAP-ZScore values in the > 2 regime. Based on this and assumptions prior stated, we conclude there is bias in the dataset. How that bias has arisen, is a different story and not answerable given the scope of this work. "
   ]
  },
  {
   "cell_type": "markdown",
   "metadata": {},
   "source": [
    "# Analysis 2: General Observations and Potential Geographic/Historical Sources of Bias For Individual Countries\n",
    "\n",
    "Here we seek to answer the question if certain countries have biased data (i.e. why are certain countries have very high GAP-ZScores), from a more broader and qualititative perspective. In particular, we seek to identify if there is something unique in those countries with high GAP scores, and/or high GAP-ZScore values. The countries with high GAP scores, as identified in the Results section are: \n",
    "\n",
    "Analysis below should not be taken as fact, and are solely opinions of the author. \n",
    "\n",
    "1. North Korea\n",
    "2. Saudi Arabia\n",
    "3. Central African Republic\n",
    "4. Romania\n",
    "5. Mauritania\n",
    "6. Bhutan \n",
    "7. Tuvalu\n",
    "8. Dominica\n",
    "9. United States\n",
    "10. Benin\n",
    "\n",
    "and countries with highest GAP-ZScores are: \n",
    "\n",
    "1. North Korea\n",
    "2. Bhutan\n",
    "3. Saudi Arabia\n",
    "4. Central African Republic\n",
    "5. Romania\n",
    "6. Ireland\n",
    "7. Mauritania \n",
    "8. Dominia\n",
    "9. United States\n",
    "10. Benin\n",
    "11. Gambia\n",
    "12. Gabon\n",
    "13. Vietnam \n",
    "\n",
    "Certain countries, especially those that exist in both sets, stand out. Perhaps there is osmething unique about those countries that increased the relative proportion, normalized against population, for those country-articles. We look at some of those countries below and use author's assumed general knowledge to probe deeper: \n",
    "\n",
    "- **North Korea**: North Korea has a history of facism and government censorship of media. It has a prominent role in history, especially during the 20th century and extremely tense relationship between the United States, its policy of erecting anti-communist governments, versus the Soviet-China led bloc of which North Korea was apart. With the leaders and political climate of North Korea having been a firestorm in recent memory, it makes sense that a lot of North Korea's articles are featured. Perhaps also government censorship/intervention into free speech has played a role. \n",
    "\n",
    "- **Saudi Arabia**: Again, similar to North Korea in that it has a deeply layered and contentious political history. Furthermore Saudi Arabia was home to some of the earliest civilizations, and just as North Korea was a longtime enemy of the United States, Saudi Arabia has been a long time ally of the U.S. It makes clear sense that it has a lot of featured articles. \n",
    "\n",
    "Along the same vien of rich/complex political history and/or deep ties to United States socio-political history, other countries in this list follow suit naturally, in particular Vietnam (WWII), Ireland (think Irish revolutionary period),  Central African Republic/Central Africa (European colonization, rampant Civil Wars). \n",
    "\n",
    "This is not necessarily bias; instead, high GAP/GAP-ZScores of these countries stem directly from their rich histories. That they are afforded more \"featured\" articles on Wikipedia is a natural consequence and \"appropriately\" deserved. "
   ]
  }
 ],
 "metadata": {
  "kernelspec": {
   "display_name": "Python 3",
   "language": "python",
   "name": "python3"
  },
  "language_info": {
   "codemirror_mode": {
    "name": "ipython",
    "version": 3
   },
   "file_extension": ".py",
   "mimetype": "text/x-python",
   "name": "python",
   "nbconvert_exporter": "python",
   "pygments_lexer": "ipython3",
   "version": "3.6.4"
  }
 },
 "nbformat": 4,
 "nbformat_minor": 2
}
